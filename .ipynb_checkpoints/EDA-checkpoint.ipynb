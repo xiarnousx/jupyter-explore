{
 "cells": [
  {
   "cell_type": "markdown",
   "metadata": {},
   "source": [
    "# Prerequisite Libraries \n",
    "1. sudo python3 -m pip install pandas\n",
    "2. sudo python3 -m pip install numpy\n",
    "3. sudo python3 -m pip install matplotlib\n",
    "4. sudo python3 -m pip install seaborn\n",
    "5.sudo python3 -m pip install sklearn"
   ]
  },
  {
   "cell_type": "markdown",
   "metadata": {},
   "source": [
    "## Include the Required Libraries for Analysis"
   ]
  },
  {
   "cell_type": "code",
   "execution_count": 3,
   "metadata": {},
   "outputs": [],
   "source": [
    "%matplotlib inline"
   ]
  },
  {
   "cell_type": "code",
   "execution_count": 4,
   "metadata": {},
   "outputs": [],
   "source": [
    "import matplotlib.pyplot as plt"
   ]
  },
  {
   "cell_type": "code",
   "execution_count": 5,
   "metadata": {},
   "outputs": [],
   "source": [
    "import matplotlib"
   ]
  },
  {
   "cell_type": "code",
   "execution_count": 6,
   "metadata": {},
   "outputs": [],
   "source": [
    "import numpy as np"
   ]
  },
  {
   "cell_type": "code",
   "execution_count": 7,
   "metadata": {},
   "outputs": [],
   "source": [
    "import seaborn as sns"
   ]
  },
  {
   "cell_type": "code",
   "execution_count": 8,
   "metadata": {},
   "outputs": [],
   "source": [
    "import sklearn as kl"
   ]
  },
  {
   "cell_type": "code",
   "execution_count": 9,
   "metadata": {},
   "outputs": [],
   "source": [
    "import pandas as pd"
   ]
  },
  {
   "cell_type": "markdown",
   "metadata": {},
   "source": [
    "### Load Energy Usage 2010 thru Panadas\n",
    "* [Energy Usage](https://data.lacity.org/api/views/nxs9-385f/rows.csv?accessType=DOWNLOAD)"
   ]
  },
  {
   "cell_type": "code",
   "execution_count": 14,
   "metadata": {},
   "outputs": [],
   "source": [
    "df = pd.read_csv('Energy_Usage_2010.csv')"
   ]
  },
  {
   "cell_type": "code",
   "execution_count": 12,
   "metadata": {},
   "outputs": [
    {
     "data": {
      "text/html": [
       "<div>\n",
       "<style scoped>\n",
       "    .dataframe tbody tr th:only-of-type {\n",
       "        vertical-align: middle;\n",
       "    }\n",
       "\n",
       "    .dataframe tbody tr th {\n",
       "        vertical-align: top;\n",
       "    }\n",
       "\n",
       "    .dataframe thead th {\n",
       "        text-align: right;\n",
       "    }\n",
       "</style>\n",
       "<table border=\"1\" class=\"dataframe\">\n",
       "  <thead>\n",
       "    <tr style=\"text-align: right;\">\n",
       "      <th></th>\n",
       "      <th>COMMUNITY AREA NAME</th>\n",
       "      <th>CENSUS BLOCK</th>\n",
       "      <th>BUILDING TYPE</th>\n",
       "      <th>BUILDING_SUBTYPE</th>\n",
       "      <th>KWH JANUARY 2010</th>\n",
       "      <th>KWH FEBRUARY 2010</th>\n",
       "      <th>KWH MARCH 2010</th>\n",
       "      <th>KWH APRIL 2010</th>\n",
       "      <th>KWH MAY 2010</th>\n",
       "      <th>KWH JUNE 2010</th>\n",
       "      <th>...</th>\n",
       "      <th>TOTAL POPULATION</th>\n",
       "      <th>TOTAL UNITS</th>\n",
       "      <th>AVERAGE STORIES</th>\n",
       "      <th>AVERAGE BUILDING AGE</th>\n",
       "      <th>AVERAGE HOUSESIZE</th>\n",
       "      <th>OCCUPIED UNITS</th>\n",
       "      <th>OCCUPIED UNITS PERCENTAGE</th>\n",
       "      <th>RENTER-OCCUPIED HOUSING UNITS</th>\n",
       "      <th>RENTER-OCCUPIED HOUSING PERCENTAGE</th>\n",
       "      <th>OCCUPIED HOUSING UNITS</th>\n",
       "    </tr>\n",
       "  </thead>\n",
       "  <tbody>\n",
       "    <tr>\n",
       "      <th>0</th>\n",
       "      <td>Archer Heights</td>\n",
       "      <td>1.703157e+14</td>\n",
       "      <td>Residential</td>\n",
       "      <td>Multi &lt; 7</td>\n",
       "      <td>NaN</td>\n",
       "      <td>NaN</td>\n",
       "      <td>NaN</td>\n",
       "      <td>NaN</td>\n",
       "      <td>NaN</td>\n",
       "      <td>NaN</td>\n",
       "      <td>...</td>\n",
       "      <td>89.0</td>\n",
       "      <td>24.0</td>\n",
       "      <td>2.0</td>\n",
       "      <td>71.33</td>\n",
       "      <td>3.87</td>\n",
       "      <td>23.0</td>\n",
       "      <td>0.9582</td>\n",
       "      <td>9.0</td>\n",
       "      <td>0.3910</td>\n",
       "      <td>23.0</td>\n",
       "    </tr>\n",
       "    <tr>\n",
       "      <th>1</th>\n",
       "      <td>Ashburn</td>\n",
       "      <td>1.703170e+14</td>\n",
       "      <td>Residential</td>\n",
       "      <td>Multi 7+</td>\n",
       "      <td>7334.0</td>\n",
       "      <td>7741.0</td>\n",
       "      <td>4214.0</td>\n",
       "      <td>4284.0</td>\n",
       "      <td>2518.0</td>\n",
       "      <td>4273.0</td>\n",
       "      <td>...</td>\n",
       "      <td>112.0</td>\n",
       "      <td>67.0</td>\n",
       "      <td>2.0</td>\n",
       "      <td>41.00</td>\n",
       "      <td>1.81</td>\n",
       "      <td>62.0</td>\n",
       "      <td>0.9254</td>\n",
       "      <td>50.0</td>\n",
       "      <td>0.8059</td>\n",
       "      <td>62.0</td>\n",
       "    </tr>\n",
       "    <tr>\n",
       "      <th>2</th>\n",
       "      <td>Auburn Gresham</td>\n",
       "      <td>1.703171e+14</td>\n",
       "      <td>Commercial</td>\n",
       "      <td>Multi &lt; 7</td>\n",
       "      <td>NaN</td>\n",
       "      <td>NaN</td>\n",
       "      <td>NaN</td>\n",
       "      <td>NaN</td>\n",
       "      <td>NaN</td>\n",
       "      <td>NaN</td>\n",
       "      <td>...</td>\n",
       "      <td>102.0</td>\n",
       "      <td>48.0</td>\n",
       "      <td>3.0</td>\n",
       "      <td>86.00</td>\n",
       "      <td>3.00</td>\n",
       "      <td>34.0</td>\n",
       "      <td>0.7082</td>\n",
       "      <td>23.0</td>\n",
       "      <td>0.6759</td>\n",
       "      <td>34.0</td>\n",
       "    </tr>\n",
       "    <tr>\n",
       "      <th>3</th>\n",
       "      <td>Austin</td>\n",
       "      <td>1.703125e+14</td>\n",
       "      <td>Commercial</td>\n",
       "      <td>Multi &lt; 7</td>\n",
       "      <td>NaN</td>\n",
       "      <td>NaN</td>\n",
       "      <td>NaN</td>\n",
       "      <td>NaN</td>\n",
       "      <td>NaN</td>\n",
       "      <td>NaN</td>\n",
       "      <td>...</td>\n",
       "      <td>121.0</td>\n",
       "      <td>56.0</td>\n",
       "      <td>2.0</td>\n",
       "      <td>84.00</td>\n",
       "      <td>2.95</td>\n",
       "      <td>41.0</td>\n",
       "      <td>0.7321</td>\n",
       "      <td>32.0</td>\n",
       "      <td>0.7800</td>\n",
       "      <td>41.0</td>\n",
       "    </tr>\n",
       "    <tr>\n",
       "      <th>4</th>\n",
       "      <td>Austin</td>\n",
       "      <td>1.703125e+14</td>\n",
       "      <td>Commercial</td>\n",
       "      <td>Multi &lt; 7</td>\n",
       "      <td>NaN</td>\n",
       "      <td>NaN</td>\n",
       "      <td>NaN</td>\n",
       "      <td>NaN</td>\n",
       "      <td>NaN</td>\n",
       "      <td>NaN</td>\n",
       "      <td>...</td>\n",
       "      <td>62.0</td>\n",
       "      <td>23.0</td>\n",
       "      <td>2.0</td>\n",
       "      <td>85.00</td>\n",
       "      <td>3.26</td>\n",
       "      <td>19.0</td>\n",
       "      <td>0.8261</td>\n",
       "      <td>11.0</td>\n",
       "      <td>0.5790</td>\n",
       "      <td>19.0</td>\n",
       "    </tr>\n",
       "  </tbody>\n",
       "</table>\n",
       "<p>5 rows × 73 columns</p>\n",
       "</div>"
      ],
      "text/plain": [
       "  COMMUNITY AREA NAME  CENSUS BLOCK BUILDING TYPE BUILDING_SUBTYPE  \\\n",
       "0      Archer Heights  1.703157e+14   Residential        Multi < 7   \n",
       "1             Ashburn  1.703170e+14   Residential         Multi 7+   \n",
       "2      Auburn Gresham  1.703171e+14    Commercial        Multi < 7   \n",
       "3              Austin  1.703125e+14    Commercial        Multi < 7   \n",
       "4              Austin  1.703125e+14    Commercial        Multi < 7   \n",
       "\n",
       "   KWH JANUARY 2010  KWH FEBRUARY 2010  KWH MARCH 2010  KWH APRIL 2010  \\\n",
       "0               NaN                NaN             NaN             NaN   \n",
       "1            7334.0             7741.0          4214.0          4284.0   \n",
       "2               NaN                NaN             NaN             NaN   \n",
       "3               NaN                NaN             NaN             NaN   \n",
       "4               NaN                NaN             NaN             NaN   \n",
       "\n",
       "   KWH MAY 2010  KWH JUNE 2010  ...  TOTAL POPULATION  TOTAL UNITS  \\\n",
       "0           NaN            NaN  ...              89.0         24.0   \n",
       "1        2518.0         4273.0  ...             112.0         67.0   \n",
       "2           NaN            NaN  ...             102.0         48.0   \n",
       "3           NaN            NaN  ...             121.0         56.0   \n",
       "4           NaN            NaN  ...              62.0         23.0   \n",
       "\n",
       "   AVERAGE STORIES  AVERAGE BUILDING AGE  AVERAGE HOUSESIZE  OCCUPIED UNITS  \\\n",
       "0              2.0                 71.33               3.87            23.0   \n",
       "1              2.0                 41.00               1.81            62.0   \n",
       "2              3.0                 86.00               3.00            34.0   \n",
       "3              2.0                 84.00               2.95            41.0   \n",
       "4              2.0                 85.00               3.26            19.0   \n",
       "\n",
       "   OCCUPIED UNITS PERCENTAGE RENTER-OCCUPIED HOUSING UNITS  \\\n",
       "0                     0.9582                           9.0   \n",
       "1                     0.9254                          50.0   \n",
       "2                     0.7082                          23.0   \n",
       "3                     0.7321                          32.0   \n",
       "4                     0.8261                          11.0   \n",
       "\n",
       "   RENTER-OCCUPIED HOUSING PERCENTAGE  OCCUPIED HOUSING UNITS  \n",
       "0                              0.3910                    23.0  \n",
       "1                              0.8059                    62.0  \n",
       "2                              0.6759                    34.0  \n",
       "3                              0.7800                    41.0  \n",
       "4                              0.5790                    19.0  \n",
       "\n",
       "[5 rows x 73 columns]"
      ]
     },
     "execution_count": 12,
     "metadata": {},
     "output_type": "execute_result"
    }
   ],
   "source": [
    "df.head()"
   ]
  },
  {
   "cell_type": "code",
   "execution_count": 14,
   "metadata": {},
   "outputs": [
    {
     "data": {
      "text/plain": [
       "(67051, 73)"
      ]
     },
     "execution_count": 14,
     "metadata": {},
     "output_type": "execute_result"
    }
   ],
   "source": [
    "df.shape"
   ]
  },
  {
   "cell_type": "code",
   "execution_count": 15,
   "metadata": {},
   "outputs": [
    {
     "data": {
      "text/plain": [
       "67051"
      ]
     },
     "execution_count": 15,
     "metadata": {},
     "output_type": "execute_result"
    }
   ],
   "source": [
    "len(df)"
   ]
  },
  {
   "cell_type": "code",
   "execution_count": 16,
   "metadata": {},
   "outputs": [
    {
     "data": {
      "text/plain": [
       "73"
      ]
     },
     "execution_count": 16,
     "metadata": {},
     "output_type": "execute_result"
    }
   ],
   "source": [
    "len(df.columns)"
   ]
  },
  {
   "cell_type": "code",
   "execution_count": 17,
   "metadata": {},
   "outputs": [
    {
     "name": "stdout",
     "output_type": "stream",
     "text": [
      "<class 'pandas.core.frame.DataFrame'>\n",
      "RangeIndex: 67051 entries, 0 to 67050\n",
      "Data columns (total 73 columns):\n",
      "COMMUNITY AREA NAME                    67051 non-null object\n",
      "CENSUS BLOCK                           66974 non-null float64\n",
      "BUILDING TYPE                          66974 non-null object\n",
      "BUILDING_SUBTYPE                       66974 non-null object\n",
      "KWH JANUARY 2010                       66180 non-null float64\n",
      "KWH FEBRUARY 2010                      66180 non-null float64\n",
      "KWH MARCH 2010                         66180 non-null float64\n",
      "KWH APRIL 2010                         66180 non-null float64\n",
      "KWH MAY 2010                           66180 non-null float64\n",
      "KWH JUNE 2010                          66180 non-null float64\n",
      "KWH JULY 2010                          66180 non-null float64\n",
      "KWH AUGUST 2010                        66180 non-null float64\n",
      "KWH SEPTEMBER 2010                     66180 non-null float64\n",
      "KWH OCTOBER 2010                       66180 non-null float64\n",
      "KWH NOVEMBER 2010                      66180 non-null float64\n",
      "KWH DECEMBER 2010                      66180 non-null float64\n",
      "TOTAL KWH                              66180 non-null float64\n",
      "ELECTRICITY ACCOUNTS                   66180 non-null object\n",
      "ZERO KWH ACCOUNTS                      67051 non-null int64\n",
      "THERM JANUARY 2010                     64821 non-null float64\n",
      "THERM FEBRUARY 2010                    62819 non-null float64\n",
      "THERM MARCH 2010                       65569 non-null float64\n",
      "TERM APRIL 2010                        65476 non-null float64\n",
      "THERM MAY 2010                         65194 non-null float64\n",
      "THERM JUNE 2010                        65284 non-null float64\n",
      "THERM JULY 2010                        65231 non-null float64\n",
      "THERM AUGUST 2010                      65143 non-null float64\n",
      "THERM SEPTEMBER 2010                   64769 non-null float64\n",
      "THERM OCTOBER 2010                     65329 non-null float64\n",
      "THERM NOVEMBER 2010                    65492 non-null float64\n",
      "THERM DECEMBER 2010                    65507 non-null float64\n",
      "TOTAL THERMS                           65755 non-null float64\n",
      "GAS ACCOUNTS                           65755 non-null object\n",
      "KWH TOTAL SQFT                         65901 non-null float64\n",
      "THERMS TOTAL SQFT                      65378 non-null float64\n",
      "KWH MEAN 2010                          66180 non-null float64\n",
      "KWH STANDARD DEVIATION 2010            57095 non-null float64\n",
      "KWH MINIMUM 2010                       66180 non-null float64\n",
      "KWH 1ST QUARTILE 2010                  66180 non-null float64\n",
      "KWH 2ND QUARTILE 2010                  66180 non-null float64\n",
      "KWH 3RD QUARTILE 2010                  66180 non-null float64\n",
      "KWH MAXIMUM 2010                       66180 non-null float64\n",
      "KWH SQFT MEAN 2010                     65901 non-null float64\n",
      "KWH SQFT STANDARD DEVIATION 2010       51666 non-null float64\n",
      "KWH SQFT MINIMUM 2010                  65901 non-null float64\n",
      "KWH SQFT 1ST QUARTILE 2010             65901 non-null float64\n",
      "KWH SQFT 2ND QUARTILE 2010             65901 non-null float64\n",
      "KWH SQFT 3RD QUARTILE 2010             65901 non-null float64\n",
      "KWH SQFT MAXIMUM 2010                  65901 non-null float64\n",
      "THERM MEAN 2010                        65755 non-null float64\n",
      "THERM STANDARD DEVIATION 2010          56821 non-null float64\n",
      "THERM MINIMUM 2010                     65755 non-null float64\n",
      "THERM 1ST QUARTILE 2010                65755 non-null float64\n",
      "THERM 2ND QUARTILE 2010                65755 non-null float64\n",
      "THERM 3RD QUARTILE 2010                65755 non-null float64\n",
      "THERM MAXIMUM 2010                     65755 non-null float64\n",
      "THERMS SQFT MEAN 2010                  65378 non-null float64\n",
      "THERMS SQFT STANDARD DEVIATION 2010    51367 non-null float64\n",
      "THERMS SQFT MINIMUM 2010               65378 non-null float64\n",
      "THERMS SQFT 1ST QUARTILE 2010          65378 non-null float64\n",
      "THERMS SQFT 2ND QUARTILE 2010          65378 non-null float64\n",
      "THERMS SQFT 3RD QUARTILE 2010          65378 non-null float64\n",
      "THERMS SQFT MAXIMUM 2010               65378 non-null float64\n",
      "TOTAL POPULATION                       67037 non-null float64\n",
      "TOTAL UNITS                            67037 non-null float64\n",
      "AVERAGE STORIES                        67051 non-null float64\n",
      "AVERAGE BUILDING AGE                   67051 non-null float64\n",
      "AVERAGE HOUSESIZE                      67037 non-null float64\n",
      "OCCUPIED UNITS                         67037 non-null float64\n",
      "OCCUPIED UNITS PERCENTAGE              64606 non-null float64\n",
      "RENTER-OCCUPIED HOUSING UNITS          67037 non-null float64\n",
      "RENTER-OCCUPIED HOUSING PERCENTAGE     64433 non-null float64\n",
      "OCCUPIED HOUSING UNITS                 67037 non-null float64\n",
      "dtypes: float64(67), int64(1), object(5)\n",
      "memory usage: 37.3+ MB\n"
     ]
    }
   ],
   "source": [
    "df.info()"
   ]
  },
  {
   "cell_type": "code",
   "execution_count": 19,
   "metadata": {},
   "outputs": [
    {
     "data": {
      "text/plain": [
       "array(['Residential', 'Commercial', 'Industrial', nan], dtype=object)"
      ]
     },
     "execution_count": 19,
     "metadata": {},
     "output_type": "execute_result"
    }
   ],
   "source": [
    "df['BUILDING TYPE'].unique()"
   ]
  },
  {
   "cell_type": "code",
   "execution_count": 15,
   "metadata": {},
   "outputs": [],
   "source": [
    "df_res = df.loc[df['BUILDING TYPE'] == 'Residential']"
   ]
  },
  {
   "cell_type": "code",
   "execution_count": 28,
   "metadata": {},
   "outputs": [
    {
     "name": "stdout",
     "output_type": "stream",
     "text": [
      "Num Total Rows: 67051\n",
      "Num Residential Total: 49747\n",
      "Diff: 17304\n"
     ]
    }
   ],
   "source": [
    "print (\"Num Total Rows:\", len(df))\n",
    "print (\"Num Residential Total:\", len(df_res))\n",
    "print (\"Diff:\", (len(df) - len(df_res)))"
   ]
  },
  {
   "cell_type": "markdown",
   "metadata": {},
   "source": [
    "The data frame also has lot of columns\n",
    "\n",
    "For this excersise will use the below columns:\n",
    "\n",
    "* COMMUNITY AREA NAME\n",
    "* BUILDING_SUBTYPE\n",
    "* TOTAL KWH\n",
    "* TOTAL THERMS\n",
    "* TOTAL POPULATION\n",
    "* TOTAL UNITS\n",
    "* AVERAGE BUILDING AGE\n",
    "* AVERAGE HOUSESIZE"
   ]
  },
  {
   "cell_type": "markdown",
   "metadata": {},
   "source": [
    "### Project on the above columns"
   ]
  },
  {
   "cell_type": "code",
   "execution_count": 17,
   "metadata": {},
   "outputs": [],
   "source": [
    "df_res = df_res[['COMMUNITY AREA NAME', 'BUILDING_SUBTYPE', 'TOTAL KWH', 'TOTAL THERMS', 'TOTAL POPULATION', 'TOTAL UNITS','AVERAGE BUILDING AGE','AVERAGE HOUSESIZE']]"
   ]
  },
  {
   "cell_type": "code",
   "execution_count": 18,
   "metadata": {},
   "outputs": [
    {
     "data": {
      "text/plain": [
       "(49747, 8)"
      ]
     },
     "execution_count": 18,
     "metadata": {},
     "output_type": "execute_result"
    }
   ],
   "source": [
    "df_res.shape"
   ]
  },
  {
   "cell_type": "code",
   "execution_count": 19,
   "metadata": {},
   "outputs": [],
   "source": [
    "df_res.to_csv('Energy_Usage_2010_residential.csv')"
   ]
  },
  {
   "cell_type": "code",
   "execution_count": 20,
   "metadata": {},
   "outputs": [],
   "source": [
    "df_res = pd.read_csv('Energy_Usage_2010_residential.csv', index_col=0)"
   ]
  },
  {
   "cell_type": "code",
   "execution_count": 21,
   "metadata": {},
   "outputs": [],
   "source": [
    "df = df_res.copy()"
   ]
  },
  {
   "cell_type": "code",
   "execution_count": 22,
   "metadata": {},
   "outputs": [
    {
     "data": {
      "text/plain": [
       "(49747, 8)"
      ]
     },
     "execution_count": 22,
     "metadata": {},
     "output_type": "execute_result"
    }
   ],
   "source": [
    "df.shape"
   ]
  },
  {
   "cell_type": "code",
   "execution_count": 23,
   "metadata": {},
   "outputs": [
    {
     "data": {
      "text/plain": [
       "COMMUNITY AREA NAME     49747\n",
       "BUILDING_SUBTYPE        49747\n",
       "TOTAL KWH               49447\n",
       "TOTAL THERMS            49314\n",
       "TOTAL POPULATION        49740\n",
       "TOTAL UNITS             49740\n",
       "AVERAGE BUILDING AGE    49747\n",
       "AVERAGE HOUSESIZE       49740\n",
       "dtype: int64"
      ]
     },
     "execution_count": 23,
     "metadata": {},
     "output_type": "execute_result"
    }
   ],
   "source": [
    "df.count()"
   ]
  },
  {
   "cell_type": "code",
   "execution_count": 24,
   "metadata": {},
   "outputs": [
    {
     "data": {
      "text/html": [
       "<div>\n",
       "<style scoped>\n",
       "    .dataframe tbody tr th:only-of-type {\n",
       "        vertical-align: middle;\n",
       "    }\n",
       "\n",
       "    .dataframe tbody tr th {\n",
       "        vertical-align: top;\n",
       "    }\n",
       "\n",
       "    .dataframe thead th {\n",
       "        text-align: right;\n",
       "    }\n",
       "</style>\n",
       "<table border=\"1\" class=\"dataframe\">\n",
       "  <thead>\n",
       "    <tr style=\"text-align: right;\">\n",
       "      <th></th>\n",
       "      <th>COMMUNITY AREA NAME</th>\n",
       "      <th>BUILDING_SUBTYPE</th>\n",
       "      <th>TOTAL KWH</th>\n",
       "      <th>TOTAL THERMS</th>\n",
       "      <th>TOTAL POPULATION</th>\n",
       "      <th>TOTAL UNITS</th>\n",
       "      <th>AVERAGE BUILDING AGE</th>\n",
       "      <th>AVERAGE HOUSESIZE</th>\n",
       "    </tr>\n",
       "  </thead>\n",
       "  <tbody>\n",
       "    <tr>\n",
       "      <th>0</th>\n",
       "      <td>Archer Heights</td>\n",
       "      <td>Multi &lt; 7</td>\n",
       "      <td>NaN</td>\n",
       "      <td>10917.0</td>\n",
       "      <td>89.0</td>\n",
       "      <td>24.0</td>\n",
       "      <td>71.33</td>\n",
       "      <td>3.87</td>\n",
       "    </tr>\n",
       "    <tr>\n",
       "      <th>1</th>\n",
       "      <td>Ashburn</td>\n",
       "      <td>Multi 7+</td>\n",
       "      <td>82064.0</td>\n",
       "      <td>NaN</td>\n",
       "      <td>112.0</td>\n",
       "      <td>67.0</td>\n",
       "      <td>41.00</td>\n",
       "      <td>1.81</td>\n",
       "    </tr>\n",
       "    <tr>\n",
       "      <th>8</th>\n",
       "      <td>Austin</td>\n",
       "      <td>Multi 7+</td>\n",
       "      <td>41497.0</td>\n",
       "      <td>NaN</td>\n",
       "      <td>79.0</td>\n",
       "      <td>31.0</td>\n",
       "      <td>99.00</td>\n",
       "      <td>2.93</td>\n",
       "    </tr>\n",
       "    <tr>\n",
       "      <th>9</th>\n",
       "      <td>Austin</td>\n",
       "      <td>Multi 7+</td>\n",
       "      <td>8596.0</td>\n",
       "      <td>NaN</td>\n",
       "      <td>84.0</td>\n",
       "      <td>33.0</td>\n",
       "      <td>99.00</td>\n",
       "      <td>3.82</td>\n",
       "    </tr>\n",
       "    <tr>\n",
       "      <th>10</th>\n",
       "      <td>Austin</td>\n",
       "      <td>Multi &lt; 7</td>\n",
       "      <td>11529.0</td>\n",
       "      <td>NaN</td>\n",
       "      <td>0.0</td>\n",
       "      <td>0.0</td>\n",
       "      <td>0.00</td>\n",
       "      <td>0.00</td>\n",
       "    </tr>\n",
       "  </tbody>\n",
       "</table>\n",
       "</div>"
      ],
      "text/plain": [
       "   COMMUNITY AREA NAME BUILDING_SUBTYPE  TOTAL KWH  TOTAL THERMS  \\\n",
       "0       Archer Heights        Multi < 7        NaN       10917.0   \n",
       "1              Ashburn         Multi 7+    82064.0           NaN   \n",
       "8               Austin         Multi 7+    41497.0           NaN   \n",
       "9               Austin         Multi 7+     8596.0           NaN   \n",
       "10              Austin        Multi < 7    11529.0           NaN   \n",
       "\n",
       "    TOTAL POPULATION  TOTAL UNITS  AVERAGE BUILDING AGE  AVERAGE HOUSESIZE  \n",
       "0               89.0         24.0                 71.33               3.87  \n",
       "1              112.0         67.0                 41.00               1.81  \n",
       "8               79.0         31.0                 99.00               2.93  \n",
       "9               84.0         33.0                 99.00               3.82  \n",
       "10               0.0          0.0                  0.00               0.00  "
      ]
     },
     "execution_count": 24,
     "metadata": {},
     "output_type": "execute_result"
    }
   ],
   "source": [
    "df.head()"
   ]
  },
  {
   "cell_type": "code",
   "execution_count": 37,
   "metadata": {},
   "outputs": [],
   "source": [
    "# df = df.fillna(0.0)"
   ]
  },
  {
   "cell_type": "code",
   "execution_count": 38,
   "metadata": {},
   "outputs": [],
   "source": [
    "# df.dropna()"
   ]
  },
  {
   "cell_type": "markdown",
   "metadata": {},
   "source": [
    "### Perform Basic Statistics on Data (Residential)\n"
   ]
  },
  {
   "cell_type": "code",
   "execution_count": 25,
   "metadata": {},
   "outputs": [
    {
     "data": {
      "text/plain": [
       "count    4.944700e+04\n",
       "mean     8.422961e+04\n",
       "std      1.014753e+05\n",
       "min      1.990000e+02\n",
       "25%      3.275600e+04\n",
       "50%      6.625600e+04\n",
       "75%      1.150085e+05\n",
       "max      6.910340e+06\n",
       "Name: TOTAL KWH, dtype: float64"
      ]
     },
     "execution_count": 25,
     "metadata": {},
     "output_type": "execute_result"
    }
   ],
   "source": [
    "df['TOTAL KWH'].describe()"
   ]
  },
  {
   "cell_type": "code",
   "execution_count": 40,
   "metadata": {},
   "outputs": [
    {
     "data": {
      "text/html": [
       "<div>\n",
       "<style scoped>\n",
       "    .dataframe tbody tr th:only-of-type {\n",
       "        vertical-align: middle;\n",
       "    }\n",
       "\n",
       "    .dataframe tbody tr th {\n",
       "        vertical-align: top;\n",
       "    }\n",
       "\n",
       "    .dataframe thead th {\n",
       "        text-align: right;\n",
       "    }\n",
       "</style>\n",
       "<table border=\"1\" class=\"dataframe\">\n",
       "  <thead>\n",
       "    <tr style=\"text-align: right;\">\n",
       "      <th></th>\n",
       "      <th>TOTAL KWH</th>\n",
       "      <th>TOTAL THERMS</th>\n",
       "      <th>TOTAL POPULATION</th>\n",
       "      <th>TOTAL UNITS</th>\n",
       "      <th>AVERAGE BUILDING AGE</th>\n",
       "      <th>AVERAGE HOUSESIZE</th>\n",
       "    </tr>\n",
       "  </thead>\n",
       "  <tbody>\n",
       "    <tr>\n",
       "      <th>count</th>\n",
       "      <td>4.944700e+04</td>\n",
       "      <td>49314.000000</td>\n",
       "      <td>49740.000000</td>\n",
       "      <td>49740.000000</td>\n",
       "      <td>49747.000000</td>\n",
       "      <td>49740.000000</td>\n",
       "    </tr>\n",
       "    <tr>\n",
       "      <th>mean</th>\n",
       "      <td>8.422961e+04</td>\n",
       "      <td>14094.016912</td>\n",
       "      <td>78.974930</td>\n",
       "      <td>33.697326</td>\n",
       "      <td>77.606139</td>\n",
       "      <td>2.871123</td>\n",
       "    </tr>\n",
       "    <tr>\n",
       "      <th>std</th>\n",
       "      <td>1.014753e+05</td>\n",
       "      <td>13000.373821</td>\n",
       "      <td>72.313111</td>\n",
       "      <td>42.992560</td>\n",
       "      <td>28.873362</td>\n",
       "      <td>0.905074</td>\n",
       "    </tr>\n",
       "    <tr>\n",
       "      <th>min</th>\n",
       "      <td>1.990000e+02</td>\n",
       "      <td>25.000000</td>\n",
       "      <td>0.000000</td>\n",
       "      <td>0.000000</td>\n",
       "      <td>0.000000</td>\n",
       "      <td>0.000000</td>\n",
       "    </tr>\n",
       "    <tr>\n",
       "      <th>25%</th>\n",
       "      <td>3.275600e+04</td>\n",
       "      <td>5845.000000</td>\n",
       "      <td>39.000000</td>\n",
       "      <td>15.000000</td>\n",
       "      <td>59.820000</td>\n",
       "      <td>2.300000</td>\n",
       "    </tr>\n",
       "    <tr>\n",
       "      <th>50%</th>\n",
       "      <td>6.625600e+04</td>\n",
       "      <td>11528.500000</td>\n",
       "      <td>63.000000</td>\n",
       "      <td>24.000000</td>\n",
       "      <td>82.750000</td>\n",
       "      <td>2.820000</td>\n",
       "    </tr>\n",
       "    <tr>\n",
       "      <th>75%</th>\n",
       "      <td>1.150085e+05</td>\n",
       "      <td>18933.000000</td>\n",
       "      <td>99.000000</td>\n",
       "      <td>39.000000</td>\n",
       "      <td>97.935000</td>\n",
       "      <td>3.410000</td>\n",
       "    </tr>\n",
       "    <tr>\n",
       "      <th>max</th>\n",
       "      <td>6.910340e+06</td>\n",
       "      <td>469402.000000</td>\n",
       "      <td>1496.000000</td>\n",
       "      <td>1165.000000</td>\n",
       "      <td>158.000000</td>\n",
       "      <td>9.000000</td>\n",
       "    </tr>\n",
       "  </tbody>\n",
       "</table>\n",
       "</div>"
      ],
      "text/plain": [
       "          TOTAL KWH   TOTAL THERMS  TOTAL POPULATION   TOTAL UNITS  \\\n",
       "count  4.944700e+04   49314.000000      49740.000000  49740.000000   \n",
       "mean   8.422961e+04   14094.016912         78.974930     33.697326   \n",
       "std    1.014753e+05   13000.373821         72.313111     42.992560   \n",
       "min    1.990000e+02      25.000000          0.000000      0.000000   \n",
       "25%    3.275600e+04    5845.000000         39.000000     15.000000   \n",
       "50%    6.625600e+04   11528.500000         63.000000     24.000000   \n",
       "75%    1.150085e+05   18933.000000         99.000000     39.000000   \n",
       "max    6.910340e+06  469402.000000       1496.000000   1165.000000   \n",
       "\n",
       "       AVERAGE BUILDING AGE  AVERAGE HOUSESIZE  \n",
       "count          49747.000000       49740.000000  \n",
       "mean              77.606139           2.871123  \n",
       "std               28.873362           0.905074  \n",
       "min                0.000000           0.000000  \n",
       "25%               59.820000           2.300000  \n",
       "50%               82.750000           2.820000  \n",
       "75%               97.935000           3.410000  \n",
       "max              158.000000           9.000000  "
      ]
     },
     "execution_count": 40,
     "metadata": {},
     "output_type": "execute_result"
    }
   ],
   "source": [
    "df.describe()"
   ]
  },
  {
   "cell_type": "code",
   "execution_count": 41,
   "metadata": {},
   "outputs": [
    {
     "data": {
      "text/html": [
       "<div>\n",
       "<style scoped>\n",
       "    .dataframe tbody tr th:only-of-type {\n",
       "        vertical-align: middle;\n",
       "    }\n",
       "\n",
       "    .dataframe tbody tr th {\n",
       "        vertical-align: top;\n",
       "    }\n",
       "\n",
       "    .dataframe thead th {\n",
       "        text-align: right;\n",
       "    }\n",
       "</style>\n",
       "<table border=\"1\" class=\"dataframe\">\n",
       "  <thead>\n",
       "    <tr style=\"text-align: right;\">\n",
       "      <th></th>\n",
       "      <th>BUILDING_SUBTYPE</th>\n",
       "      <th>COMMUNITY AREA NAME</th>\n",
       "    </tr>\n",
       "  </thead>\n",
       "  <tbody>\n",
       "    <tr>\n",
       "      <th>count</th>\n",
       "      <td>49747</td>\n",
       "      <td>49747</td>\n",
       "    </tr>\n",
       "    <tr>\n",
       "      <th>unique</th>\n",
       "      <td>3</td>\n",
       "      <td>77</td>\n",
       "    </tr>\n",
       "    <tr>\n",
       "      <th>top</th>\n",
       "      <td>Single Family</td>\n",
       "      <td>Austin</td>\n",
       "    </tr>\n",
       "    <tr>\n",
       "      <th>freq</th>\n",
       "      <td>26365</td>\n",
       "      <td>1974</td>\n",
       "    </tr>\n",
       "  </tbody>\n",
       "</table>\n",
       "</div>"
      ],
      "text/plain": [
       "       BUILDING_SUBTYPE COMMUNITY AREA NAME\n",
       "count             49747               49747\n",
       "unique                3                  77\n",
       "top       Single Family              Austin\n",
       "freq              26365                1974"
      ]
     },
     "execution_count": 41,
     "metadata": {},
     "output_type": "execute_result"
    }
   ],
   "source": [
    "df[['BUILDING_SUBTYPE', 'COMMUNITY AREA NAME']].describe()"
   ]
  },
  {
   "cell_type": "markdown",
   "metadata": {},
   "source": [
    "### Energy Consumption Questions\n",
    "\n",
    "\n",
    "1. What was the average energy consumption for Residential Buildings broken down by building subtype in 2010?\n",
    "2. What was the pre capita energy consumption for all residential buildings?\n",
    "3. Which community areas were responsible for the highest and lowest per capita enrgy consumption in 2010?"
   ]
  },
  {
   "cell_type": "markdown",
   "metadata": {},
   "source": [
    "#### 1. What was the average energy consumption for Residential Buildings broken down by building subtype in 2010?"
   ]
  },
  {
   "cell_type": "code",
   "execution_count": 42,
   "metadata": {},
   "outputs": [
    {
     "data": {
      "text/plain": [
       "BUILDING_SUBTYPE\n",
       "Multi 7+         91514.626168\n",
       "Multi < 7        73163.252475\n",
       "Single Family    92054.643986\n",
       "Name: TOTAL KWH, dtype: float64"
      ]
     },
     "execution_count": 42,
     "metadata": {},
     "output_type": "execute_result"
    }
   ],
   "source": [
    "df.groupby('BUILDING_SUBTYPE')['TOTAL KWH'].mean()"
   ]
  },
  {
   "cell_type": "markdown",
   "metadata": {},
   "source": [
    "#### 2. What was the pre capita energy consumption for all residential buildings?"
   ]
  },
  {
   "cell_type": "code",
   "execution_count": 26,
   "metadata": {},
   "outputs": [
    {
     "data": {
      "text/plain": [
       "1559.3785933292504"
      ]
     },
     "execution_count": 26,
     "metadata": {},
     "output_type": "execute_result"
    }
   ],
   "source": [
    "df_clean = df.loc[(df['TOTAL KWH'] > 0.0) & (df['TOTAL POPULATION'] > 0.0)].copy()\n",
    "(df_clean['TOTAL KWH'] / df_clean['TOTAL POPULATION']).mean()"
   ]
  },
  {
   "cell_type": "markdown",
   "metadata": {},
   "source": [
    "#### 3. Which community areas were responsible for the highest and lowest per capita enrgy consumption in 2010?"
   ]
  },
  {
   "cell_type": "code",
   "execution_count": 27,
   "metadata": {},
   "outputs": [],
   "source": [
    "df_clean['PER CAPITA KWH'] = df_clean['TOTAL KWH'] / df_clean['TOTAL POPULATION']"
   ]
  },
  {
   "cell_type": "code",
   "execution_count": 28,
   "metadata": {},
   "outputs": [],
   "source": [
    "df_area = df_clean.groupby('COMMUNITY AREA NAME').mean().sort_values('PER CAPITA KWH')"
   ]
  },
  {
   "cell_type": "code",
   "execution_count": 29,
   "metadata": {},
   "outputs": [
    {
     "data": {
      "text/plain": [
       "COMMUNITY AREA NAME\n",
       "South Lawndale     879.729961\n",
       "Rogers Park        890.929917\n",
       "Hermosa            898.199922\n",
       "Hyde Park          910.466411\n",
       "Washington Park    926.569809\n",
       "Name: PER CAPITA KWH, dtype: float64"
      ]
     },
     "execution_count": 29,
     "metadata": {},
     "output_type": "execute_result"
    }
   ],
   "source": [
    "df_area['PER CAPITA KWH'].head()"
   ]
  },
  {
   "cell_type": "code",
   "execution_count": 30,
   "metadata": {},
   "outputs": [
    {
     "data": {
      "text/plain": [
       "COMMUNITY AREA NAME\n",
       "Beverly            3148.019975\n",
       "Forest Glen        3283.083691\n",
       "Mount Greenwood    3338.745531\n",
       "Loop               4537.652717\n",
       "Near South Side    7243.388328\n",
       "Name: PER CAPITA KWH, dtype: float64"
      ]
     },
     "execution_count": 30,
     "metadata": {},
     "output_type": "execute_result"
    }
   ],
   "source": [
    "df_area['PER CAPITA KWH'].tail()"
   ]
  },
  {
   "cell_type": "markdown",
   "metadata": {},
   "source": [
    "# Visualize Data using matplotlib"
   ]
  },
  {
   "cell_type": "markdown",
   "metadata": {},
   "source": [
    "[Matplotlib Website](https://matplotlib.org)"
   ]
  },
  {
   "cell_type": "code",
   "execution_count": 31,
   "metadata": {},
   "outputs": [
    {
     "data": {
      "text/plain": [
       "<matplotlib.axes._subplots.AxesSubplot at 0x7f7b0970c7f0>"
      ]
     },
     "execution_count": 31,
     "metadata": {},
     "output_type": "execute_result"
    },
    {
     "data": {
      "image/png": "[encoded data removed]",
      "text/plain": [
       "<Figure size 432x288 with 1 Axes>"
      ]
     },
     "metadata": {
      "needs_background": "light"
     },
     "output_type": "display_data"
    }
   ],
   "source": [
    "df_clean.plot()"
   ]
  },
  {
   "cell_type": "code",
   "execution_count": 33,
   "metadata": {},
   "outputs": [
    {
     "data": {
      "text/plain": [
       "<matplotlib.collections.PathCollection at 0x7f7b11d014a8>"
      ]
     },
     "execution_count": 33,
     "metadata": {},
     "output_type": "execute_result"
    },
    {
     "data": {
      "image/png": "[encoded data removed]",
      "text/plain": [
       "<Figure size 432x288 with 1 Axes>"
      ]
     },
     "metadata": {
      "needs_background": "light"
     },
     "output_type": "display_data"
    }
   ],
   "source": [
    "plt.scatter(df_clean['TOTAL POPULATION'], df_clean['TOTAL KWH'])"
   ]
  },
  {
   "cell_type": "code",
   "execution_count": 34,
   "metadata": {},
   "outputs": [],
   "source": [
    "use_by_subtype = df[['BUILDING_SUBTYPE', 'TOTAL KWH']].groupby('BUILDING_SUBTYPE').mean()"
   ]
  },
  {
   "cell_type": "code",
   "execution_count": 35,
   "metadata": {},
   "outputs": [
    {
     "data": {
      "text/html": [
       "<div>\n",
       "<style scoped>\n",
       "    .dataframe tbody tr th:only-of-type {\n",
       "        vertical-align: middle;\n",
       "    }\n",
       "\n",
       "    .dataframe tbody tr th {\n",
       "        vertical-align: top;\n",
       "    }\n",
       "\n",
       "    .dataframe thead th {\n",
       "        text-align: right;\n",
       "    }\n",
       "</style>\n",
       "<table border=\"1\" class=\"dataframe\">\n",
       "  <thead>\n",
       "    <tr style=\"text-align: right;\">\n",
       "      <th></th>\n",
       "      <th>TOTAL KWH</th>\n",
       "    </tr>\n",
       "    <tr>\n",
       "      <th>BUILDING_SUBTYPE</th>\n",
       "      <th></th>\n",
       "    </tr>\n",
       "  </thead>\n",
       "  <tbody>\n",
       "    <tr>\n",
       "      <th>Multi 7+</th>\n",
       "      <td>91514.626168</td>\n",
       "    </tr>\n",
       "    <tr>\n",
       "      <th>Multi &lt; 7</th>\n",
       "      <td>73163.252475</td>\n",
       "    </tr>\n",
       "    <tr>\n",
       "      <th>Single Family</th>\n",
       "      <td>92054.643986</td>\n",
       "    </tr>\n",
       "  </tbody>\n",
       "</table>\n",
       "</div>"
      ],
      "text/plain": [
       "                     TOTAL KWH\n",
       "BUILDING_SUBTYPE              \n",
       "Multi 7+          91514.626168\n",
       "Multi < 7         73163.252475\n",
       "Single Family     92054.643986"
      ]
     },
     "execution_count": 35,
     "metadata": {},
     "output_type": "execute_result"
    }
   ],
   "source": [
    "use_by_subtype"
   ]
  },
  {
   "cell_type": "code",
   "execution_count": 36,
   "metadata": {},
   "outputs": [
    {
     "data": {
      "text/plain": [
       "<matplotlib.axes._subplots.AxesSubplot at 0x7f7b11cbaba8>"
      ]
     },
     "execution_count": 36,
     "metadata": {},
     "output_type": "execute_result"
    },
    {
     "data": {
      "image/png": "[encoded data removed]",
      "text/plain": [
       "<Figure size 432x288 with 1 Axes>"
      ]
     },
     "metadata": {
      "needs_background": "light"
     },
     "output_type": "display_data"
    }
   ],
   "source": [
    "use_by_subtype.plot.bar()"
   ]
  },
  {
   "cell_type": "markdown",
   "metadata": {},
   "source": [
    "# SeaBorn"
   ]
  },
  {
   "cell_type": "code",
   "execution_count": 37,
   "metadata": {},
   "outputs": [],
   "source": [
    "sns.set()"
   ]
  },
  {
   "cell_type": "code",
   "execution_count": 39,
   "metadata": {},
   "outputs": [],
   "source": [
    "sns.set_palette(sns.color_palette(\"Set2\", 10))"
   ]
  },
  {
   "cell_type": "code",
   "execution_count": 57,
   "metadata": {},
   "outputs": [
    {
     "data": {
      "text/plain": [
       "<matplotlib.axes._subplots.AxesSubplot at 0x7f7b0e4c6a90>"
      ]
     },
     "execution_count": 57,
     "metadata": {},
     "output_type": "execute_result"
    },
    {
     "data": {
      "image/png": "[encoded data removed]",
      "text/plain": [
       "<Figure size 432x288 with 1 Axes>"
      ]
     },
     "metadata": {},
     "output_type": "display_data"
    }
   ],
   "source": [
    "double_group = df_clean[df_clean['COMMUNITY AREA NAME'].isin(\n",
    "[\n",
    "    'South Lawndale',\n",
    "    'Rogers Park',\n",
    "    'Hermosa',\n",
    "    'Hyde Park',\n",
    "    'Beverly',\n",
    "    'Forest Glen',\n",
    "    'Mount Greenwood',\n",
    "    'Loop',\n",
    "    'Near South Side'   \n",
    "]\n",
    ")].groupby(['COMMUNITY AREA NAME', 'BUILDING_SUBTYPE'])['PER CAPITA KWH'].mean()\n",
    "gif = double_group.unstack()\n",
    "gif.plot.bar()"
   ]
  },
  {
   "cell_type": "code",
   "execution_count": null,
   "metadata": {},
   "outputs": [],
   "source": []
  }
 ],
 "metadata": {
  "kernelspec": {
   "display_name": "Python 3",
   "language": "python",
   "name": "python3"
  },
  "language_info": {
   "codemirror_mode": {
    "name": "ipython",
    "version": 3
   },
   "file_extension": ".py",
   "mimetype": "text/x-python",
   "name": "python",
   "nbconvert_exporter": "python",
   "pygments_lexer": "ipython3",
   "version": "3.6.7"
  }
 },
 "nbformat": 4,
 "nbformat_minor": 2
}
